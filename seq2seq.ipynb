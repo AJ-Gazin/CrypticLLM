{
 "cells": [
  {
   "cell_type": "code",
   "execution_count": 2,
   "metadata": {},
   "outputs": [],
   "source": [
    "# import modules\n",
    "import pandas as pd\n",
    "import numpy as np\n",
    "import ast\n",
    "import json\n",
    "import plotly.graph_objects as go\n",
    "from plotly.subplots import make_subplots\n",
    "\n",
    "# import parameters\n",
    "from utils.parameters import *"
   ]
  },
  {
   "cell_type": "code",
   "execution_count": 4,
   "metadata": {},
   "outputs": [
    {
     "data": {
      "text/html": [
       "<div>\n",
       "<style scoped>\n",
       "    .dataframe tbody tr th:only-of-type {\n",
       "        vertical-align: middle;\n",
       "    }\n",
       "\n",
       "    .dataframe tbody tr th {\n",
       "        vertical-align: top;\n",
       "    }\n",
       "\n",
       "    .dataframe thead th {\n",
       "        text-align: right;\n",
       "    }\n",
       "</style>\n",
       "<table border=\"1\" class=\"dataframe\">\n",
       "  <thead>\n",
       "    <tr style=\"text-align: right;\">\n",
       "      <th></th>\n",
       "      <th>id</th>\n",
       "      <th>question</th>\n",
       "      <th>context</th>\n",
       "      <th>answers</th>\n",
       "    </tr>\n",
       "  </thead>\n",
       "  <tbody>\n",
       "    <tr>\n",
       "      <th>188939</th>\n",
       "      <td>188940</td>\n",
       "      <td>Joyous feeling after Congress removes its limi...</td>\n",
       "      <td>Joyous feeling</td>\n",
       "      <td>{'text': ['ELATION'], 'answer_start': [0]}</td>\n",
       "    </tr>\n",
       "    <tr>\n",
       "      <th>48852</th>\n",
       "      <td>48853</td>\n",
       "      <td>Future minister in rising party hurried to sup...</td>\n",
       "      <td>Future minister</td>\n",
       "      <td>{'text': ['ORDINAND'], 'answer_start': [0]}</td>\n",
       "    </tr>\n",
       "    <tr>\n",
       "      <th>511244</th>\n",
       "      <td>511245</td>\n",
       "      <td>. Sees time running out for very many students...</td>\n",
       "      <td>many students</td>\n",
       "      <td>{'text': ['NOVICES'], 'answer_start': [0]}</td>\n",
       "    </tr>\n",
       "    <tr>\n",
       "      <th>143282</th>\n",
       "      <td>143283</td>\n",
       "      <td>Go crazy when upset (4)</td>\n",
       "      <td>Go</td>\n",
       "      <td>{'text': ['STAB'], 'answer_start': [0]}</td>\n",
       "    </tr>\n",
       "    <tr>\n",
       "      <th>651053</th>\n",
       "      <td>654093</td>\n",
       "      <td>Very small amount of venom in a lizard</td>\n",
       "      <td>Very small</td>\n",
       "      <td>{'text': ['NOMINAL'], 'answer_start': [0]}</td>\n",
       "    </tr>\n",
       "  </tbody>\n",
       "</table>\n",
       "</div>"
      ],
      "text/plain": [
       "            id                                           question  \\\n",
       "188939  188940  Joyous feeling after Congress removes its limi...   \n",
       "48852    48853  Future minister in rising party hurried to sup...   \n",
       "511244  511245  . Sees time running out for very many students...   \n",
       "143282  143283                            Go crazy when upset (4)   \n",
       "651053  654093             Very small amount of venom in a lizard   \n",
       "\n",
       "                context                                      answers  \n",
       "188939   Joyous feeling   {'text': ['ELATION'], 'answer_start': [0]}  \n",
       "48852   Future minister  {'text': ['ORDINAND'], 'answer_start': [0]}  \n",
       "511244    many students   {'text': ['NOVICES'], 'answer_start': [0]}  \n",
       "143282               Go      {'text': ['STAB'], 'answer_start': [0]}  \n",
       "651053       Very small   {'text': ['NOMINAL'], 'answer_start': [0]}  "
      ]
     },
     "execution_count": 4,
     "metadata": {},
     "output_type": "execute_result"
    }
   ],
   "source": [
    "# Import data\n",
    "clues_raw = pd.read_csv(clues_path).dropna().sample(frac=1)\n",
    "clues = clues_raw.copy()[['rowid', 'clue', 'answer', 'definition']]\n",
    "\n",
    "# Transform columns into the format required by the trainer module\n",
    "clues['rowid'] = clues['rowid'].astype(str)\n",
    "clues['question'] = clues['clue']\n",
    "clues['context'] = clues['definition'] \n",
    "clues['answers'] = clues['answer'].map(lambda x : {\"text\" : [x], \"answer_start\" : [0]})\n",
    "clues['answers'].apply(lambda x : ast.literal_eval(str(x)))\n",
    "clues = clues.rename(columns={'rowid' : 'id'})\n",
    "clues = clues[['id', 'question', 'context', 'answers']].dropna()\n",
    "\n",
    "# Print examples\n",
    "clues.head()"
   ]
  },
  {
   "cell_type": "code",
   "execution_count": null,
   "metadata": {},
   "outputs": [],
   "source": []
  },
  {
   "cell_type": "code",
   "execution_count": 19,
   "metadata": {},
   "outputs": [
    {
     "name": "stderr",
     "output_type": "stream",
     "text": [
      "INFO:__main__:This is an informational message\n",
      "WARNING:__main__:This is a warning message\n"
     ]
    }
   ],
   "source": [
    "import logging\n",
    "\n",
    "logger = logging.getLogger(__name__)\n",
    "logging.basicConfig(level=logging.DEBUG) # Minimal setup for Notebook display\n",
    "\n",
    "logger.info(\"This is an informational message\")\n",
    "logger.warning(\"This is a warning message\")"
   ]
  },
  {
   "cell_type": "code",
   "execution_count": 20,
   "metadata": {},
   "outputs": [
    {
     "name": "stderr",
     "output_type": "stream",
     "text": [
      "DEBUG:root:test\n"
     ]
    }
   ],
   "source": [
    "import logging\n",
    "logger = logging.getLogger()\n",
    "logger.setLevel(logging.DEBUG)\n",
    "logging.debug(\"test\")\n",
    "\n",
    "import utils.parameters as p \n",
    "! python ./utils/run_seq2seq_qa.py \\\n",
    "  --model_name_or_path google/t5-small-ssm \\\n",
    "  --train_file C:\\Users\\aj\\Code\\Cryptic_project\\data\\clues_train.csv \\\n",
    "  --validation_file C:\\Users\\aj\\Code\\Cryptic_project\\data\\clues_valid.csv \\\n",
    "  --test_file C:\\Users\\aj\\Code\\Cryptic_project\\data\\clues_test.csv \\\n",
    "  --question_column question \\\n",
    "  --context_column context \\\n",
    "  --answer_column answers \\\n",
    "  --do_train \\\n",
    "  --do_eval \\\n",
    "  --do_pred \\\n",
    "  --predict_with_generate \\\n",
    "  --version_2_with_negative \\\n",
    "  --per_device_train_batch_size 192 \\\n",
    "  --learning_rate 2e-3 \\\n",
    "  --num_train_epochs 3 \\\n",
    "  --max_seq_length 64 \\\n",
    "  --overwrite_output_dir True \\\n",
    "  --output_dir C:\\Users\\aj\\Code\\Cryptic_project\\output\\"
   ]
  },
  {
   "cell_type": "code",
   "execution_count": null,
   "metadata": {},
   "outputs": [],
   "source": [
    "predictions = pd.read_json(predictions_path)\n",
    "predictions = predictions.rename(columns={'id' : 'rowid'})\n",
    "\n",
    "# Show some examples\n",
    "predictions.head()"
   ]
  }
 ],
 "metadata": {
  "kernelspec": {
   "display_name": "Cryptic_project",
   "language": "python",
   "name": "python3"
  },
  "language_info": {
   "codemirror_mode": {
    "name": "ipython",
    "version": 3
   },
   "file_extension": ".py",
   "mimetype": "text/x-python",
   "name": "python",
   "nbconvert_exporter": "python",
   "pygments_lexer": "ipython3",
   "version": "3.12.3"
  }
 },
 "nbformat": 4,
 "nbformat_minor": 2
}
